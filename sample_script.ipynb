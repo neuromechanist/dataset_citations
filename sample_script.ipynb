{
 "cells": [
  {
   "cell_type": "markdown",
   "metadata": {},
   "source": [
    "# Sample codes to interact with the Scholarly toolbox"
   ]
  },
  {
   "cell_type": "code",
   "execution_count": null,
   "metadata": {},
   "outputs": [],
   "source": [
    "# check if the scholarly module is installed, if not install it from\n",
    "# pip3 install -U git+https://github.com/scholarly-python-package/scholarly.git\n",
    "\n",
    "import importlib\n",
    "schoarly_loader = importlib.util.find_spec('scholarly')\n",
    "found = schoarly_loader is not None\n",
    "if not found:\n",
    "    import pip\n",
    "    pip.main(['install', '-U', 'git+https://github.com/scholarly-python-package/scholarly.git'])\n",
    "\n",
    "from scholarly import scholarly\n",
    "import pandas as pd\n",
    "import numpy as np\n",
    "from matplotlib import pyplot as plt"
   ]
  },
  {
   "cell_type": "code",
   "execution_count": null,
   "metadata": {},
   "outputs": [],
   "source": [
    "# load the dataset names into a list\n",
    "dataset_names = pd.read_csv(\"directories_list.txt\", header=None)  # read the dataset names from the file\n",
    "dataset_names = dataset_names[0].tolist()  # convert the dataframe to a list"
   ]
  },
  {
   "cell_type": "code",
   "execution_count": null,
   "metadata": {},
   "outputs": [],
   "source": [
    "# Using Scholarly, get the number of citations that contain the dataset and save it to a Series\n",
    "citations = pd.Series()\n",
    "for dataset in dataset_names:\n",
    "    search_query = scholarly.search_pubs(dataset)\n",
    "    citations[dataset] = search_query.total_results\n",
    "    print(dataset, citations[dataset])"
   ]
  },
  {
   "cell_type": "code",
   "execution_count": null,
   "metadata": {},
   "outputs": [],
   "source": [
    "# In case the search fails continue again from the last dataset\n",
    "# Note: The query will fail every three minutes, need to change the IP address before continuing\n",
    "\n",
    "last_dataset = citations.index[-1]\n",
    "last_dataset_index = dataset_names.index(last_dataset)\n",
    "dataset_names = dataset_names[last_dataset_index + 1:]\n",
    "\n",
    "# Using Scholarly, get the number of citations that contain the dataset and save it to a Series\n",
    "for dataset in dataset_names:\n",
    "    search_query = scholarly.search_pubs(dataset)\n",
    "    citations[dataset] = search_query.total_results\n",
    "    print(dataset, citations[dataset])"
   ]
  },
  {
   "cell_type": "code",
   "execution_count": null,
   "metadata": {},
   "outputs": [],
   "source": [
    "# save the citations to a csv file\n",
    "citations.to_csv(\"citations.csv\",header=['number_of_citations '], index_label='dataset_id')"
   ]
  },
  {
   "cell_type": "code",
   "execution_count": 40,
   "metadata": {},
   "outputs": [
    {
     "name": "stderr",
     "output_type": "stream",
     "text": [
      "/Users/yahya/Documents/git/dataset_citations/getCitations.py:62: FutureWarning: The frame.append method is deprecated and will be removed from pandas in a future version. Use pandas.concat instead.\n",
      "  citations = citations.append({'title': entry['bib']['title'],\n",
      "/Users/yahya/Documents/git/dataset_citations/getCitations.py:62: FutureWarning: The frame.append method is deprecated and will be removed from pandas in a future version. Use pandas.concat instead.\n",
      "  citations = citations.append({'title': entry['bib']['title'],\n",
      "/Users/yahya/Documents/git/dataset_citations/getCitations.py:62: FutureWarning: The frame.append method is deprecated and will be removed from pandas in a future version. Use pandas.concat instead.\n",
      "  citations = citations.append({'title': entry['bib']['title'],\n"
     ]
    },
    {
     "name": "stdout",
     "output_type": "stream",
     "text": [
      "Index(['title', 'author', 'year', 'url', 'cited_by', 'bib'], dtype='object')\n"
     ]
    },
    {
     "name": "stderr",
     "output_type": "stream",
     "text": [
      "/Users/yahya/Documents/git/dataset_citations/getCitations.py:62: FutureWarning: The frame.append method is deprecated and will be removed from pandas in a future version. Use pandas.concat instead.\n",
      "  citations = citations.append({'title': entry['bib']['title'],\n"
     ]
    }
   ],
   "source": [
    "import getCitations\n",
    "dataset = \"ds003374\"\n",
    "\n",
    "# Number of Citations\n",
    "citation_nums = getCitations.get_citation_numbers(dataset)\n",
    "\n",
    "# Citation Details\n",
    "if citation_nums != 0:\n",
    "    citations = getCitations.get_citations(dataset, citation_nums)\n",
    "\n",
    "print(citations.keys())"
   ]
  },
  {
   "cell_type": "code",
   "execution_count": 41,
   "metadata": {},
   "outputs": [
    {
     "name": "stdout",
     "output_type": "stream",
     "text": [
      "Index(['title', 'author', 'year', 'url', 'cited_by', 'bib'], dtype='object')\n"
     ]
    }
   ],
   "source": [
    "print(citations.keys())"
   ]
  },
  {
   "cell_type": "code",
   "execution_count": null,
   "metadata": {},
   "outputs": [],
   "source": [
    "from importlib import reload\n",
    "reload(getCitations)"
   ]
  },
  {
   "cell_type": "code",
   "execution_count": 38,
   "metadata": {},
   "outputs": [
    {
     "name": "stdout",
     "output_type": "stream",
     "text": [
      "0\n"
     ]
    }
   ],
   "source": [
    "import getCitations\n",
    "dataset = \"ds004841\"\n",
    "citation_nums = getCitations.get_citation_numbers(dataset)\n",
    "print(citation_nums)"
   ]
  },
  {
   "cell_type": "code",
   "execution_count": null,
   "metadata": {},
   "outputs": [],
   "source": [
    "cites = getCitations.get_citations(dataset, citation_nums)"
   ]
  },
  {
   "cell_type": "code",
   "execution_count": null,
   "metadata": {},
   "outputs": [],
   "source": [
    "cites['url']"
   ]
  },
  {
   "cell_type": "code",
   "execution_count": null,
   "metadata": {},
   "outputs": [],
   "source": [
    "cites.to_pickle(\"citations/\"+dataset+\".pkl\")"
   ]
  },
  {
   "cell_type": "code",
   "execution_count": 42,
   "metadata": {},
   "outputs": [],
   "source": [
    "import pandas as pd\n",
    "loaded_cites = pd.read_pickle(\"citations/ds000117.pkl\")"
   ]
  },
  {
   "cell_type": "code",
   "execution_count": 43,
   "metadata": {},
   "outputs": [],
   "source": [
    "loaded_cites.to_excel(\"citations/ds000117.xlsx\")"
   ]
  }
 ],
 "metadata": {
  "kernelspec": {
   "display_name": "torch-sci",
   "language": "python",
   "name": "python3"
  },
  "language_info": {
   "codemirror_mode": {
    "name": "ipython",
    "version": 3
   },
   "file_extension": ".py",
   "mimetype": "text/x-python",
   "name": "python",
   "nbconvert_exporter": "python",
   "pygments_lexer": "ipython3",
   "version": "3.10.8"
  }
 },
 "nbformat": 4,
 "nbformat_minor": 2
}
