{
 "cells": [
  {
   "cell_type": "markdown",
   "metadata": {},
   "source": [
    "# Sample codes to interact with the Scholarly toolbox"
   ]
  },
  {
   "cell_type": "code",
   "execution_count": null,
   "metadata": {},
   "outputs": [],
   "source": [
    "# check if the scholarly module is installed, if not install it from\n",
    "# pip3 install -U git+https://github.com/scholarly-python-package/scholarly.git\n",
    "\n",
    "import importlib\n",
    "schoarly_loader = importlib.util.find_spec('scholarly')\n",
    "found = schoarly_loader is not None\n",
    "if not found:\n",
    "    import pip\n",
    "    pip.main(['install', '-U', 'git+https://github.com/scholarly-python-package/scholarly.git'])\n",
    "\n",
    "from scholarly import scholarly\n",
    "import pandas as pd\n",
    "import numpy as np\n",
    "from matplotlib import pyplot as plt"
   ]
  },
  {
   "cell_type": "code",
   "execution_count": null,
   "metadata": {},
   "outputs": [],
   "source": [
    "# load the dataset names into a list\n",
    "dataset_names = pd.read_csv(\"directories_list.txt\", header=None)  # read the dataset names from the file\n",
    "dataset_names = dataset_names[0].tolist()  # convert the dataframe to a list"
   ]
  },
  {
   "cell_type": "code",
   "execution_count": null,
   "metadata": {},
   "outputs": [],
   "source": [
    "# Using Scholarly, get the number of citations that contain the dataset and save it to a Series\n",
    "citations = pd.Series()\n",
    "for dataset in dataset_names:\n",
    "    search_query = scholarly.search_pubs(dataset)\n",
    "    citations[dataset] = search_query.total_results\n",
    "    print(dataset, citations[dataset])"
   ]
  },
  {
   "cell_type": "code",
   "execution_count": null,
   "metadata": {},
   "outputs": [],
   "source": [
    "# In case the search fails continue again from the last dataset\n",
    "# Note: The query will fail every three minutes, need to change the IP address before continuing\n",
    "\n",
    "last_dataset = citations.index[-1]\n",
    "last_dataset_index = dataset_names.index(last_dataset)\n",
    "dataset_names = dataset_names[last_dataset_index + 1:]\n",
    "\n",
    "# Using Scholarly, get the number of citations that contain the dataset and save it to a Series\n",
    "for dataset in dataset_names:\n",
    "    search_query = scholarly.search_pubs(dataset)\n",
    "    citations[dataset] = search_query.total_results\n",
    "    print(dataset, citations[dataset])"
   ]
  },
  {
   "cell_type": "code",
   "execution_count": null,
   "metadata": {},
   "outputs": [],
   "source": [
    "# save the citations to a csv file\n",
    "citations.to_csv(\"citations.csv\",header=['number_of_citations '], index_label='dataset_id')"
   ]
  },
  {
   "cell_type": "markdown",
   "metadata": {},
   "source": [
    "## Sample script to use `getCitations` module to retrieve citation number and citation details"
   ]
  },
  {
   "cell_type": "code",
   "execution_count": 1,
   "metadata": {},
   "outputs": [
    {
     "name": "stderr",
     "output_type": "stream",
     "text": [
      "/Users/yahya/Documents/git/dataset_citations/getCitations.py:64: FutureWarning: The frame.append method is deprecated and will be removed from pandas in a future version. Use pandas.concat instead.\n",
      "  citations = citations.append({'title': entry['bib']['title'],\n",
      "/Users/yahya/Documents/git/dataset_citations/getCitations.py:64: FutureWarning: The frame.append method is deprecated and will be removed from pandas in a future version. Use pandas.concat instead.\n",
      "  citations = citations.append({'title': entry['bib']['title'],\n",
      "/Users/yahya/Documents/git/dataset_citations/getCitations.py:64: FutureWarning: The frame.append method is deprecated and will be removed from pandas in a future version. Use pandas.concat instead.\n",
      "  citations = citations.append({'title': entry['bib']['title'],\n"
     ]
    },
    {
     "name": "stdout",
     "output_type": "stream",
     "text": [
      "Index(['title', 'author', 'venue', 'year', 'url', 'cited_by', 'bib'], dtype='object')\n"
     ]
    },
    {
     "name": "stderr",
     "output_type": "stream",
     "text": [
      "/Users/yahya/Documents/git/dataset_citations/getCitations.py:64: FutureWarning: The frame.append method is deprecated and will be removed from pandas in a future version. Use pandas.concat instead.\n",
      "  citations = citations.append({'title': entry['bib']['title'],\n"
     ]
    }
   ],
   "source": [
    "import getCitations\n",
    "dataset = \"ds003374\"\n",
    "\n",
    "# Number of Citations\n",
    "citation_nums = getCitations.get_citation_numbers(dataset)\n",
    "\n",
    "# Citation Details\n",
    "if citation_nums != 0:\n",
    "    citations = getCitations.get_citations(dataset, citation_nums)\n",
    "\n",
    "print(citations.keys())"
   ]
  },
  {
   "cell_type": "code",
   "execution_count": 2,
   "metadata": {},
   "outputs": [
    {
     "data": {
      "text/html": [
       "<div>\n",
       "<style scoped>\n",
       "    .dataframe tbody tr th:only-of-type {\n",
       "        vertical-align: middle;\n",
       "    }\n",
       "\n",
       "    .dataframe tbody tr th {\n",
       "        vertical-align: top;\n",
       "    }\n",
       "\n",
       "    .dataframe thead th {\n",
       "        text-align: right;\n",
       "    }\n",
       "</style>\n",
       "<table border=\"1\" class=\"dataframe\">\n",
       "  <thead>\n",
       "    <tr style=\"text-align: right;\">\n",
       "      <th></th>\n",
       "      <th>title</th>\n",
       "      <th>author</th>\n",
       "      <th>venue</th>\n",
       "      <th>year</th>\n",
       "      <th>url</th>\n",
       "      <th>cited_by</th>\n",
       "      <th>bib</th>\n",
       "    </tr>\n",
       "  </thead>\n",
       "  <tbody>\n",
       "    <tr>\n",
       "      <th>0</th>\n",
       "      <td>Dataset of spiking and LFP activity invasively...</td>\n",
       "      <td>[T Fedele, E Boran, V Chirkov, P Hilfiker, T G...</td>\n",
       "      <td>Scientific data</td>\n",
       "      <td>2021</td>\n",
       "      <td>https://www.nature.com/articles/s41597-020-007...</td>\n",
       "      <td>6</td>\n",
       "      <td>{'title': 'Dataset of spiking and LFP activity...</td>\n",
       "    </tr>\n",
       "    <tr>\n",
       "      <th>1</th>\n",
       "      <td>Open multimodal iEEG-fMRI dataset from natural...</td>\n",
       "      <td>[J Berezutskaya, MJ Vansteensel, EJ Aarnoutse]</td>\n",
       "      <td>Scientific Data</td>\n",
       "      <td>2022</td>\n",
       "      <td>https://www.nature.com/articles/s41597-022-011...</td>\n",
       "      <td>11</td>\n",
       "      <td>{'title': 'Open multimodal iEEG-fMRI dataset f...</td>\n",
       "    </tr>\n",
       "    <tr>\n",
       "      <th>2</th>\n",
       "      <td>Epileptic high-frequency oscillations in intra...</td>\n",
       "      <td>[E Boran, L Stieglitz, J Sarnthein]</td>\n",
       "      <td>Frontiers in Human Neuroscience</td>\n",
       "      <td>2021</td>\n",
       "      <td>https://www.frontiersin.org/articles/10.3389/f...</td>\n",
       "      <td>8</td>\n",
       "      <td>{'title': 'Epileptic high-frequency oscillatio...</td>\n",
       "    </tr>\n",
       "    <tr>\n",
       "      <th>3</th>\n",
       "      <td>Dataset of spiking and LFP activity invasively...</td>\n",
       "      <td>[L Stieglitz, H Jokeit, J Sarnthein]</td>\n",
       "      <td>NA</td>\n",
       "      <td>NA</td>\n",
       "      <td>n/a</td>\n",
       "      <td>0</td>\n",
       "      <td>{'title': 'Dataset of spiking and LFP activity...</td>\n",
       "    </tr>\n",
       "  </tbody>\n",
       "</table>\n",
       "</div>"
      ],
      "text/plain": [
       "                                               title  \\\n",
       "0  Dataset of spiking and LFP activity invasively...   \n",
       "1  Open multimodal iEEG-fMRI dataset from natural...   \n",
       "2  Epileptic high-frequency oscillations in intra...   \n",
       "3  Dataset of spiking and LFP activity invasively...   \n",
       "\n",
       "                                              author  \\\n",
       "0  [T Fedele, E Boran, V Chirkov, P Hilfiker, T G...   \n",
       "1     [J Berezutskaya, MJ Vansteensel, EJ Aarnoutse]   \n",
       "2                [E Boran, L Stieglitz, J Sarnthein]   \n",
       "3               [L Stieglitz, H Jokeit, J Sarnthein]   \n",
       "\n",
       "                             venue  year  \\\n",
       "0                  Scientific data  2021   \n",
       "1                  Scientific Data  2022   \n",
       "2  Frontiers in Human Neuroscience  2021   \n",
       "3                               NA    NA   \n",
       "\n",
       "                                                 url cited_by  \\\n",
       "0  https://www.nature.com/articles/s41597-020-007...        6   \n",
       "1  https://www.nature.com/articles/s41597-022-011...       11   \n",
       "2  https://www.frontiersin.org/articles/10.3389/f...        8   \n",
       "3                                                n/a        0   \n",
       "\n",
       "                                                 bib  \n",
       "0  {'title': 'Dataset of spiking and LFP activity...  \n",
       "1  {'title': 'Open multimodal iEEG-fMRI dataset f...  \n",
       "2  {'title': 'Epileptic high-frequency oscillatio...  \n",
       "3  {'title': 'Dataset of spiking and LFP activity...  "
      ]
     },
     "execution_count": 2,
     "metadata": {},
     "output_type": "execute_result"
    }
   ],
   "source": [
    "citations"
   ]
  },
  {
   "cell_type": "markdown",
   "metadata": {},
   "source": [
    "## Sample commands to save the citations into a Pickle or CSV"
   ]
  },
  {
   "cell_type": "code",
   "execution_count": null,
   "metadata": {},
   "outputs": [],
   "source": [
    "citations.to_pickle(\"citations/\"+dataset+\".pkl\")"
   ]
  },
  {
   "cell_type": "code",
   "execution_count": null,
   "metadata": {},
   "outputs": [],
   "source": [
    "import pandas as pd\n",
    "loaded_cites = pd.read_pickle(\"citations/ds000117.pkl\")"
   ]
  },
  {
   "cell_type": "code",
   "execution_count": null,
   "metadata": {},
   "outputs": [],
   "source": [
    "loaded_cites.to_excel(\"citations/ds000117.xlsx\")"
   ]
  }
 ],
 "metadata": {
  "kernelspec": {
   "display_name": "torch-sci",
   "language": "python",
   "name": "python3"
  },
  "language_info": {
   "codemirror_mode": {
    "name": "ipython",
    "version": 3
   },
   "file_extension": ".py",
   "mimetype": "text/x-python",
   "name": "python",
   "nbconvert_exporter": "python",
   "pygments_lexer": "ipython3",
   "version": "3.10.8"
  }
 },
 "nbformat": 4,
 "nbformat_minor": 2
}
