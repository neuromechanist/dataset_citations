{
 "cells": [
  {
   "cell_type": "markdown",
   "metadata": {},
   "source": [
    "# Sample codes to interact with the Scholarly toolbox"
   ]
  },
  {
   "cell_type": "code",
   "execution_count": 1,
   "metadata": {},
   "outputs": [],
   "source": [
    "# check if the scholarly module is installed, if not install it from\n",
    "# pip3 install -U git+https://github.com/scholarly-python-package/scholarly.git\n",
    "\n",
    "import importlib\n",
    "schoarly_loader = importlib.util.find_spec('scholarly')\n",
    "found = schoarly_loader is not None\n",
    "if not found:\n",
    "    import pip\n",
    "    pip.main(['install', '-U', 'git+https://github.com/scholarly-python-package/scholarly.git'])\n",
    "\n",
    "from scholarly import scholarly\n",
    "import pandas as pd\n",
    "import numpy as np\n",
    "from matplotlib import pyplot as plt"
   ]
  },
  {
   "cell_type": "code",
   "execution_count": null,
   "metadata": {},
   "outputs": [],
   "source": [
    "# load the dataset names into a list\n",
    "dataset_names = pd.read_csv(\"directories_list.txt\", header=None)  # read the dataset names from the file\n",
    "dataset_names = dataset_names[0].tolist()  # convert the dataframe to a list"
   ]
  },
  {
   "cell_type": "code",
   "execution_count": null,
   "metadata": {},
   "outputs": [],
   "source": [
    "# Using Scholarly, get the number of citations that contain the dataset and save it to a Series\n",
    "citations = pd.Series()\n",
    "for dataset in dataset_names:\n",
    "    search_query = scholarly.search_pubs(dataset)\n",
    "    citations[dataset] = search_query.total_results\n",
    "    print(dataset, citations[dataset])"
   ]
  },
  {
   "cell_type": "code",
   "execution_count": null,
   "metadata": {},
   "outputs": [],
   "source": [
    "# In case the search fails continue again from the last dataset\n",
    "# Note: The query will fail every three minutes, need to change the IP address before continuing\n",
    "\n",
    "last_dataset = citations.index[-1]\n",
    "last_dataset_index = dataset_names.index(last_dataset)\n",
    "dataset_names = dataset_names[last_dataset_index + 1:]\n",
    "\n",
    "# Using Scholarly, get the number of citations that contain the dataset and save it to a Series\n",
    "for dataset in dataset_names:\n",
    "    search_query = scholarly.search_pubs(dataset)\n",
    "    citations[dataset] = search_query.total_results\n",
    "    print(dataset, citations[dataset])"
   ]
  },
  {
   "cell_type": "code",
   "execution_count": null,
   "metadata": {},
   "outputs": [],
   "source": [
    "# save the citations to a csv file\n",
    "citations.to_csv(\"citations.csv\",header=['number_of_citations '], index_label='dataset_id')"
   ]
  },
  {
   "cell_type": "code",
   "execution_count": 1,
   "metadata": {},
   "outputs": [],
   "source": [
    "import getCitations"
   ]
  },
  {
   "cell_type": "code",
   "execution_count": 4,
   "metadata": {},
   "outputs": [
    {
     "data": {
      "text/plain": [
       "<module 'getCitations' from '/Users/yahya/Documents/git/dataset_citations/getCitations.py'>"
      ]
     },
     "execution_count": 4,
     "metadata": {},
     "output_type": "execute_result"
    }
   ],
   "source": [
    "from importlib import reload\n",
    "reload(getCitations)"
   ]
  },
  {
   "cell_type": "code",
   "execution_count": 2,
   "metadata": {},
   "outputs": [
    {
     "data": {
      "text/plain": [
       "23"
      ]
     },
     "execution_count": 2,
     "metadata": {},
     "output_type": "execute_result"
    }
   ],
   "source": [
    "citation_nums = getCitations.get_citation_numbers(\"ds002778\")"
   ]
  },
  {
   "cell_type": "code",
   "execution_count": 2,
   "metadata": {},
   "outputs": [
    {
     "name": "stderr",
     "output_type": "stream",
     "text": [
      "/Users/yahya/Documents/git/dataset_citations/getCitations.py:41: FutureWarning: The frame.append method is deprecated and will be removed from pandas in a future version. Use pandas.concat instead.\n",
      "  citations = citations.append({'title': entry['bib']['title'],\n",
      "/Users/yahya/Documents/git/dataset_citations/getCitations.py:41: FutureWarning: The frame.append method is deprecated and will be removed from pandas in a future version. Use pandas.concat instead.\n",
      "  citations = citations.append({'title': entry['bib']['title'],\n",
      "/Users/yahya/Documents/git/dataset_citations/getCitations.py:41: FutureWarning: The frame.append method is deprecated and will be removed from pandas in a future version. Use pandas.concat instead.\n",
      "  citations = citations.append({'title': entry['bib']['title'],\n",
      "/Users/yahya/Documents/git/dataset_citations/getCitations.py:41: FutureWarning: The frame.append method is deprecated and will be removed from pandas in a future version. Use pandas.concat instead.\n",
      "  citations = citations.append({'title': entry['bib']['title'],\n",
      "/Users/yahya/Documents/git/dataset_citations/getCitations.py:41: FutureWarning: The frame.append method is deprecated and will be removed from pandas in a future version. Use pandas.concat instead.\n",
      "  citations = citations.append({'title': entry['bib']['title'],\n",
      "/Users/yahya/Documents/git/dataset_citations/getCitations.py:41: FutureWarning: The frame.append method is deprecated and will be removed from pandas in a future version. Use pandas.concat instead.\n",
      "  citations = citations.append({'title': entry['bib']['title'],\n",
      "/Users/yahya/Documents/git/dataset_citations/getCitations.py:41: FutureWarning: The frame.append method is deprecated and will be removed from pandas in a future version. Use pandas.concat instead.\n",
      "  citations = citations.append({'title': entry['bib']['title'],\n",
      "/Users/yahya/Documents/git/dataset_citations/getCitations.py:41: FutureWarning: The frame.append method is deprecated and will be removed from pandas in a future version. Use pandas.concat instead.\n",
      "  citations = citations.append({'title': entry['bib']['title'],\n",
      "/Users/yahya/Documents/git/dataset_citations/getCitations.py:41: FutureWarning: The frame.append method is deprecated and will be removed from pandas in a future version. Use pandas.concat instead.\n",
      "  citations = citations.append({'title': entry['bib']['title'],\n",
      "/Users/yahya/Documents/git/dataset_citations/getCitations.py:41: FutureWarning: The frame.append method is deprecated and will be removed from pandas in a future version. Use pandas.concat instead.\n",
      "  citations = citations.append({'title': entry['bib']['title'],\n",
      "/Users/yahya/Documents/git/dataset_citations/getCitations.py:41: FutureWarning: The frame.append method is deprecated and will be removed from pandas in a future version. Use pandas.concat instead.\n",
      "  citations = citations.append({'title': entry['bib']['title'],\n",
      "/Users/yahya/Documents/git/dataset_citations/getCitations.py:41: FutureWarning: The frame.append method is deprecated and will be removed from pandas in a future version. Use pandas.concat instead.\n",
      "  citations = citations.append({'title': entry['bib']['title'],\n",
      "/Users/yahya/Documents/git/dataset_citations/getCitations.py:41: FutureWarning: The frame.append method is deprecated and will be removed from pandas in a future version. Use pandas.concat instead.\n",
      "  citations = citations.append({'title': entry['bib']['title'],\n",
      "/Users/yahya/Documents/git/dataset_citations/getCitations.py:41: FutureWarning: The frame.append method is deprecated and will be removed from pandas in a future version. Use pandas.concat instead.\n",
      "  citations = citations.append({'title': entry['bib']['title'],\n",
      "/Users/yahya/Documents/git/dataset_citations/getCitations.py:41: FutureWarning: The frame.append method is deprecated and will be removed from pandas in a future version. Use pandas.concat instead.\n",
      "  citations = citations.append({'title': entry['bib']['title'],\n",
      "/Users/yahya/Documents/git/dataset_citations/getCitations.py:41: FutureWarning: The frame.append method is deprecated and will be removed from pandas in a future version. Use pandas.concat instead.\n",
      "  citations = citations.append({'title': entry['bib']['title'],\n",
      "/Users/yahya/Documents/git/dataset_citations/getCitations.py:41: FutureWarning: The frame.append method is deprecated and will be removed from pandas in a future version. Use pandas.concat instead.\n",
      "  citations = citations.append({'title': entry['bib']['title'],\n",
      "/Users/yahya/Documents/git/dataset_citations/getCitations.py:41: FutureWarning: The frame.append method is deprecated and will be removed from pandas in a future version. Use pandas.concat instead.\n",
      "  citations = citations.append({'title': entry['bib']['title'],\n",
      "/Users/yahya/Documents/git/dataset_citations/getCitations.py:41: FutureWarning: The frame.append method is deprecated and will be removed from pandas in a future version. Use pandas.concat instead.\n",
      "  citations = citations.append({'title': entry['bib']['title'],\n",
      "/Users/yahya/Documents/git/dataset_citations/getCitations.py:41: FutureWarning: The frame.append method is deprecated and will be removed from pandas in a future version. Use pandas.concat instead.\n",
      "  citations = citations.append({'title': entry['bib']['title'],\n",
      "/Users/yahya/Documents/git/dataset_citations/getCitations.py:41: FutureWarning: The frame.append method is deprecated and will be removed from pandas in a future version. Use pandas.concat instead.\n",
      "  citations = citations.append({'title': entry['bib']['title'],\n",
      "/Users/yahya/Documents/git/dataset_citations/getCitations.py:41: FutureWarning: The frame.append method is deprecated and will be removed from pandas in a future version. Use pandas.concat instead.\n",
      "  citations = citations.append({'title': entry['bib']['title'],\n",
      "/Users/yahya/Documents/git/dataset_citations/getCitations.py:41: FutureWarning: The frame.append method is deprecated and will be removed from pandas in a future version. Use pandas.concat instead.\n",
      "  citations = citations.append({'title': entry['bib']['title'],\n"
     ]
    }
   ],
   "source": [
    "cites = getCitations.get_citations(\"ds002778\", citation_nums)"
   ]
  },
  {
   "cell_type": "code",
   "execution_count": 11,
   "metadata": {},
   "outputs": [
    {
     "data": {
      "text/plain": [
       "0     {'title': 'GaborPDNet: Gabor transformation an...\n",
       "1     {'title': 'Comparative Study of Neural Network...\n",
       "2     {'title': 'Parkinson's disease detection based...\n",
       "3     {'title': 'Scale-Free Functional Brain Network...\n",
       "4     {'title': 'Spectral features of resting-state ...\n",
       "5     {'title': 'Separating the aperiodic and period...\n",
       "6     {'title': 'Fractal Dimensions and Machine Lear...\n",
       "7     {'title': 'Dopaminergic modulation of local no...\n",
       "8     {'title': 'Wavelet-Based Convolutional Neural ...\n",
       "9     {'title': 'Classification of Parkinson's disea...\n",
       "10    {'title': 'Diagnosis and classification of Par...\n",
       "11    {'title': 'A New Approach to Detection of Park...\n",
       "12    {'title': 'Automated screening of parkinson's ...\n",
       "13    {'title': 'Exploiting the Differential Wavelet...\n",
       "14    {'title': 'Classifying Parkinson's Disease usi...\n",
       "15    {'title': 'The coupling between brain connecti...\n",
       "16    {'title': 'Parkinson's disease detection from ...\n",
       "17    {'title': 'Detection of Parkinson's disease fr...\n",
       "18    {'title': 'A novel approach for the early dete...\n",
       "19    {'title': 'Resting-state electroencephalograph...\n",
       "20    {'title': 'A decision support system for autom...\n",
       "21    {'title': 'A novel automated Parkinson's disea...\n",
       "22    {'title': 'Classification of EEG signals to de...\n",
       "Name: bib, dtype: object"
      ]
     },
     "execution_count": 11,
     "metadata": {},
     "output_type": "execute_result"
    }
   ],
   "source": [
    "cites['bib']"
   ]
  },
  {
   "cell_type": "code",
   "execution_count": 12,
   "metadata": {},
   "outputs": [],
   "source": [
    "cites.to_pickle(\"ds002778.pkl\")"
   ]
  },
  {
   "cell_type": "code",
   "execution_count": 2,
   "metadata": {},
   "outputs": [],
   "source": [
    "import pandas as pd\n",
    "loaded_cites = pd.read_pickle(\"citations/ds000117.pkl\")"
   ]
  }
 ],
 "metadata": {
  "kernelspec": {
   "display_name": "torch-sci",
   "language": "python",
   "name": "python3"
  },
  "language_info": {
   "codemirror_mode": {
    "name": "ipython",
    "version": 3
   },
   "file_extension": ".py",
   "mimetype": "text/x-python",
   "name": "python",
   "nbconvert_exporter": "python",
   "pygments_lexer": "ipython3",
   "version": "3.10.8"
  }
 },
 "nbformat": 4,
 "nbformat_minor": 2
}
