{
 "cells": [
  {
   "cell_type": "markdown",
   "metadata": {},
   "source": [
    "# Sample codes to interact with the Scholarly toolbox\n",
    "\n",
    "\n",
    "## If Scholarly is not installed, first get it from GH"
   ]
  },
  {
   "cell_type": "code",
   "execution_count": null,
   "metadata": {},
   "outputs": [],
   "source": [
    "# check if the scholarly module is installed, if not install it from\n",
    "# pip3 install -U git+https://github.com/scholarly-python-package/scholarly.git\n",
    "\n",
    "import importlib\n",
    "schoarly_loader = importlib.util.find_spec('scholarly')\n",
    "found = schoarly_loader is not None\n",
    "if not found:\n",
    "    import pip\n",
    "    pip.main(['install', '-U', 'git+https://github.com/scholarly-python-package/scholarly.git'])\n",
    "\n",
    "from scholarly import scholarly\n",
    "import pandas as pd"
   ]
  },
  {
   "cell_type": "markdown",
   "metadata": {},
   "source": [
    "## Experiment with Scholarly"
   ]
  },
  {
   "cell_type": "code",
   "execution_count": 34,
   "metadata": {},
   "outputs": [],
   "source": [
    "from scholarly import scholarly\n",
    "import pandas as pd\n",
    "\n",
    "dataset = \"ds003374\"  # dataset to search for\n",
    "# num_cites = scholarly.search_pubs(dataset)\n",
    "search_query = scholarly.search_pubs(dataset)"
   ]
  },
  {
   "cell_type": "code",
   "execution_count": 36,
   "metadata": {},
   "outputs": [
    {
     "data": {
      "text/plain": [
       "4"
      ]
     },
     "execution_count": 36,
     "metadata": {},
     "output_type": "execute_result"
    }
   ],
   "source": [
    "search_query.total_results"
   ]
  },
  {
   "cell_type": "code",
   "execution_count": 35,
   "metadata": {},
   "outputs": [
    {
     "name": "stdout",
     "output_type": "stream",
     "text": [
      "{'container_type': 'Publication', 'source': <PublicationSource.PUBLICATION_SEARCH_SNIPPET: 'PUBLICATION_SEARCH_SNIPPET'>, 'bib': {'title': 'Dataset of spiking and LFP activity invasively recorded in the human amygdala during aversive dynamic stimuli', 'author': 'Fedele, Tommaso and Boran, Ece and Chirkov, Valerii and Hilfiker, Peter and Grunwald, Thomas and Stieglitz, Lennart and Jokeit, Hennric and Sarnthein, Johannes', 'pub_year': '2021', 'venue': 'Scientific data', 'abstract': 'We present an electrophysiological dataset collected from the amygdalae of nine participants  attending a visual dynamic stimulation of emotional aversive content. The participants', 'publisher': 'Nature Publishing Group UK London', 'pages': '9', 'number': '1', 'volume': '8', 'journal': 'Scientific data', 'pub_type': 'article', 'bib_id': 'fedele2021dataset'}, 'filled': True, 'gsrank': 1, 'pub_url': 'https://www.nature.com/articles/s41597-020-00790-x', 'author_id': ['', '', 'XRumrPwAAAAJ', '', ''], 'url_scholarbib': '/scholar?hl=en&q=info:_RA1rfQdvhkJ:scholar.google.com/&output=cite&scirp=0&hl=en', 'url_add_sclib': '/citations?hl=en&xsrf=&continue=/scholar%3Fq%3Dds003374%26hl%3Den%26as_sdt%3D0,33&citilm=1&update_op=library_add&info=_RA1rfQdvhkJ&ei=rF66ZZjxBM-My9YPwOepsAQ&json=', 'num_citations': 6, 'citedby_url': '/scholar?cites=1854953033238384893&as_sdt=5,33&sciodt=0,33&hl=en', 'url_related_articles': '/scholar?q=related:_RA1rfQdvhkJ:scholar.google.com/&scioq=ds003374&hl=en&as_sdt=0,33', 'eprint_url': 'https://www.nature.com/articles/s41597-020-00790-x'}\n",
      "{'container_type': 'Publication', 'source': <PublicationSource.PUBLICATION_SEARCH_SNIPPET: 'PUBLICATION_SEARCH_SNIPPET'>, 'bib': {'title': 'Open multimodal iEEG-fMRI dataset from naturalistic stimulation with a short audiovisual film', 'author': 'Berezutskaya, Julia and Vansteensel, Mariska J and Aarnoutse, Erik J and Freudenburg, Zachary V and Piantoni, Giovanni and Branco, Mariana P and Ramsey, Nick F', 'pub_year': '2022', 'venue': 'Scientific Data', 'abstract': 'Intracranial human recordings are a valuable and rare resource of information about the brain.  Making such data publicly available not only helps tackle reproducibility issues in science', 'publisher': 'Nature Publishing Group UK London', 'pages': '91', 'number': '1', 'volume': '9', 'journal': 'Scientific Data', 'pub_type': 'article', 'bib_id': 'berezutskaya2022open'}, 'filled': True, 'gsrank': 2, 'pub_url': 'https://www.nature.com/articles/s41597-022-01173-0', 'author_id': ['S3Xx9ccAAAAJ', 'fBTRcyoAAAAJ', ''], 'url_scholarbib': '/scholar?hl=en&q=info:rGOzv7z5oPkJ:scholar.google.com/&output=cite&scirp=1&hl=en', 'url_add_sclib': '/citations?hl=en&xsrf=&continue=/scholar%3Fq%3Dds003374%26hl%3Den%26as_sdt%3D0,33&citilm=1&update_op=library_add&info=rGOzv7z5oPkJ&ei=rF66ZZjxBM-My9YPwOepsAQ&json=', 'num_citations': 11, 'citedby_url': '/scholar?cites=17987651500783133612&as_sdt=5,33&sciodt=0,33&hl=en', 'url_related_articles': '/scholar?q=related:rGOzv7z5oPkJ:scholar.google.com/&scioq=ds003374&hl=en&as_sdt=0,33', 'eprint_url': 'https://www.nature.com/articles/s41597-022-01173-0'}\n",
      "{'container_type': 'Publication', 'source': <PublicationSource.PUBLICATION_SEARCH_SNIPPET: 'PUBLICATION_SEARCH_SNIPPET'>, 'bib': {'title': 'Epileptic high-frequency oscillations in intracranial EEG are not confounded by cognitive tasks', 'author': 'Boran, Ece and Stieglitz, Lennart and Sarnthein, Johannes', 'pub_year': '2021', 'venue': 'Frontiers in Human Neuroscience', 'abstract': 'Rationale: High-frequency oscillations (HFOs) in intracranial EEG (iEEG) are used to delineate  the epileptogenic zone during presurgical diagnostic assessment in patients with epilepsy', 'publisher': 'Frontiers Media SA', 'pages': '613125', 'volume': '15', 'journal': 'Frontiers in Human Neuroscience', 'pub_type': 'article', 'bib_id': 'boran2021epileptic'}, 'filled': True, 'gsrank': 3, 'pub_url': 'https://www.frontiersin.org/articles/10.3389/fnhum.2021.613125/full', 'author_id': ['', '', '1nVEBioAAAAJ'], 'url_scholarbib': '/scholar?hl=en&q=info:0vffMCdn8VkJ:scholar.google.com/&output=cite&scirp=2&hl=en', 'url_add_sclib': '/citations?hl=en&xsrf=&continue=/scholar%3Fq%3Dds003374%26hl%3Den%26as_sdt%3D0,33&citilm=1&update_op=library_add&info=0vffMCdn8VkJ&ei=rF66ZZjxBM-My9YPwOepsAQ&json=', 'num_citations': 8, 'citedby_url': '/scholar?cites=6481074756784224210&as_sdt=5,33&sciodt=0,33&hl=en', 'url_related_articles': '/scholar?q=related:0vffMCdn8VkJ:scholar.google.com/&scioq=ds003374&hl=en&as_sdt=0,33', 'eprint_url': 'https://www.frontiersin.org/articles/10.3389/fnhum.2021.613125/full'}\n",
      "{'container_type': 'Publication', 'source': <PublicationSource.PUBLICATION_SEARCH_SNIPPET: 'PUBLICATION_SEARCH_SNIPPET'>, 'bib': {'title': 'Dataset of spiking and LFP activity invasively recorded in the human amygdala during aversive dynamic stimuli', 'author': 'Stieglitz, Lennart and Jokeit, Hennric and Sarnthein, Johannes', 'venue': 'NA', 'pub_year': 'NA', 'abstract': '', 'pub_type': 'article', 'bib_id': 'stieglitzdataset'}, 'filled': True, 'gsrank': 4, 'author_id': ['', 'ZP0GtdwAAAAJ', '1nVEBioAAAAJ'], 'url_scholarbib': '/scholar?hl=en&q=info:DToo9kT6yJkJ:scholar.google.com/&output=cite&scirp=3&hl=en', 'url_add_sclib': '/citations?hl=en&xsrf=&continue=/scholar%3Fq%3Dds003374%26hl%3Den%26as_sdt%3D0,33&citilm=1&update_op=library_add&info=DToo9kT6yJkJ&ei=rF66ZZjxBM-My9YPwOepsAQ&json=', 'num_citations': 0, 'url_related_articles': '/scholar?q=related:DToo9kT6yJkJ:scholar.google.com/&scioq=ds003374&hl=en&as_sdt=0,33'}\n"
     ]
    }
   ],
   "source": [
    "pub_list = []\n",
    "for s in search_query:\n",
    "    print(scholarly.fill(s))"
   ]
  },
  {
   "cell_type": "code",
   "execution_count": 22,
   "metadata": {},
   "outputs": [],
   "source": [
    "filled_pub = scholarly.fill(pub, sections=['venue'])"
   ]
  },
  {
   "cell_type": "code",
   "execution_count": 23,
   "metadata": {},
   "outputs": [
    {
     "data": {
      "text/plain": [
       "{'container_type': 'Publication',\n",
       " 'source': <PublicationSource.PUBLICATION_SEARCH_SNIPPET: 'PUBLICATION_SEARCH_SNIPPET'>,\n",
       " 'bib': {'title': 'Dataset of spiking and LFP activity invasively recorded in the human amygdala during aversive dynamic stimuli',\n",
       "  'author': 'Fedele, Tommaso and Boran, Ece and Chirkov, Valerii and Hilfiker, Peter and Grunwald, Thomas and Stieglitz, Lennart and Jokeit, Hennric and Sarnthein, Johannes',\n",
       "  'pub_year': '2021',\n",
       "  'venue': 'Scientific data',\n",
       "  'abstract': 'We present an electrophysiological dataset collected from the amygdalae of nine participants  attending a visual dynamic stimulation of emotional aversive content. The participants',\n",
       "  'publisher': 'Nature Publishing Group UK London',\n",
       "  'pages': '9',\n",
       "  'number': '1',\n",
       "  'volume': '8',\n",
       "  'journal': 'Scientific data',\n",
       "  'pub_type': 'article',\n",
       "  'bib_id': 'fedele2021dataset'},\n",
       " 'filled': True,\n",
       " 'gsrank': 1,\n",
       " 'pub_url': 'https://www.nature.com/articles/s41597-020-00790-x',\n",
       " 'author_id': ['', '', 'XRumrPwAAAAJ', '', ''],\n",
       " 'url_scholarbib': '/scholar?hl=en&q=info:_RA1rfQdvhkJ:scholar.google.com/&output=cite&scirp=0&hl=en',\n",
       " 'url_add_sclib': '/citations?hl=en&xsrf=&continue=/scholar%3Fq%3Dds003374%26hl%3Den%26as_sdt%3D0,33&citilm=1&update_op=library_add&info=_RA1rfQdvhkJ&ei=Hvy5ZZCLKejSy9YP4am1oAs&json=',\n",
       " 'num_citations': 6,\n",
       " 'citedby_url': '/scholar?cites=1854953033238384893&as_sdt=5,33&sciodt=0,33&hl=en',\n",
       " 'url_related_articles': '/scholar?q=related:_RA1rfQdvhkJ:scholar.google.com/&scioq=ds003374&hl=en&as_sdt=0,33',\n",
       " 'eprint_url': 'https://www.nature.com/articles/s41597-020-00790-x'}"
      ]
     },
     "execution_count": 23,
     "metadata": {},
     "output_type": "execute_result"
    }
   ],
   "source": [
    "filled_pub"
   ]
  },
  {
   "cell_type": "code",
   "execution_count": 1,
   "metadata": {},
   "outputs": [],
   "source": [
    "from scholarly import scholarly\n",
    "from scholarly import ProxyGenerator\n",
    "pg = ProxyGenerator()\n",
    "        # This is a PAID API key specific to the NEMAR project, please do NOT share\n",
    "success = pg.ScraperAPI(\"2b1a9b9f4327a5bec275d0261231886b\")"
   ]
  },
  {
   "cell_type": "code",
   "execution_count": 6,
   "metadata": {},
   "outputs": [],
   "source": [
    "search_query = scholarly.search_pubs('ds000117')"
   ]
  },
  {
   "cell_type": "code",
   "execution_count": 7,
   "metadata": {},
   "outputs": [
    {
     "data": {
      "text/plain": [
       "{'container_type': 'Publication',\n",
       " 'source': <PublicationSource.PUBLICATION_SEARCH_SNIPPET: 'PUBLICATION_SEARCH_SNIPPET'>,\n",
       " 'bib': {'title': 'A reproducible MEG/EEG group study with the MNE software: recommendations, quality assessments, and good practices',\n",
       "  'author': ['M Jas', 'E Larson', 'DA Engemann'],\n",
       "  'pub_year': '2018',\n",
       "  'venue': 'Frontiers in …',\n",
       "  'abstract': 'Cognitive neuroscience questions are commonly tested with experiments that involve a cohort  of subjects. The cohort can consist of a handful of subjects for small studies to hundreds'},\n",
       " 'filled': False,\n",
       " 'gsrank': 1,\n",
       " 'pub_url': 'https://www.frontiersin.org/articles/10.3389/fnins.2018.00530/full',\n",
       " 'author_id': ['YIi1T7IAAAAJ', '87KLuLUAAAAJ', 'ombAzhMAAAAJ'],\n",
       " 'url_scholarbib': '/scholar?hl=en&q=info:HCW-atpSAb4J:scholar.google.com/&output=cite&scirp=0&hl=en',\n",
       " 'url_add_sclib': '/citations?hl=en&xsrf=&continue=/scholar%3Fq%3Dds000117%26hl%3Den%26as_sdt%3D0,33&citilm=1&update_op=library_add&info=HCW-atpSAb4J&ei=7_i5ZaLbOcecy9YPpYCQiAM&json=',\n",
       " 'num_citations': 92,\n",
       " 'citedby_url': '/scholar?cites=13691315440230212892&as_sdt=5,33&sciodt=0,33&hl=en',\n",
       " 'url_related_articles': '/scholar?q=related:HCW-atpSAb4J:scholar.google.com/&scioq=ds000117&hl=en&as_sdt=0,33',\n",
       " 'eprint_url': 'https://www.frontiersin.org/articles/10.3389/fnins.2018.00530/full'}"
      ]
     },
     "execution_count": 7,
     "metadata": {},
     "output_type": "execute_result"
    }
   ],
   "source": [
    "next(search_query)"
   ]
  },
  {
   "cell_type": "markdown",
   "metadata": {},
   "source": [
    "## Sample script to use `getCitations` module to retrieve citation number and citation details"
   ]
  },
  {
   "cell_type": "code",
   "execution_count": null,
   "metadata": {},
   "outputs": [],
   "source": [
    "import getCitations\n",
    "dataset = \"ds003374\"\n",
    "\n",
    "# Number of Citations\n",
    "citation_nums = getCitations.get_citation_numbers(dataset)\n",
    "\n",
    "# Citation Details\n",
    "if citation_nums != 0:\n",
    "    citations = getCitations.get_citations(dataset, citation_nums)\n",
    "\n",
    "print(citations.keys())"
   ]
  },
  {
   "cell_type": "code",
   "execution_count": null,
   "metadata": {},
   "outputs": [],
   "source": [
    "citations"
   ]
  },
  {
   "cell_type": "markdown",
   "metadata": {},
   "source": [
    "## Sample commands to save the citations into a Pickle or CSV"
   ]
  },
  {
   "cell_type": "code",
   "execution_count": null,
   "metadata": {},
   "outputs": [],
   "source": [
    "citations.to_pickle(\"citations/\"+dataset+\".pkl\")"
   ]
  },
  {
   "cell_type": "code",
   "execution_count": 5,
   "metadata": {},
   "outputs": [],
   "source": [
    "import pandas as pd\n",
    "loaded_cites = pd.read_pickle(\"citations/ds003374.pkl\")"
   ]
  },
  {
   "cell_type": "code",
   "execution_count": null,
   "metadata": {},
   "outputs": [],
   "source": [
    "loaded_cites.to_excel(\"citations/ds000117.xlsx\")"
   ]
  },
  {
   "cell_type": "code",
   "execution_count": 6,
   "metadata": {},
   "outputs": [
    {
     "data": {
      "text/html": [
       "<div>\n",
       "<style scoped>\n",
       "    .dataframe tbody tr th:only-of-type {\n",
       "        vertical-align: middle;\n",
       "    }\n",
       "\n",
       "    .dataframe tbody tr th {\n",
       "        vertical-align: top;\n",
       "    }\n",
       "\n",
       "    .dataframe thead th {\n",
       "        text-align: right;\n",
       "    }\n",
       "</style>\n",
       "<table border=\"1\" class=\"dataframe\">\n",
       "  <thead>\n",
       "    <tr style=\"text-align: right;\">\n",
       "      <th></th>\n",
       "      <th>title</th>\n",
       "      <th>author</th>\n",
       "      <th>venue</th>\n",
       "      <th>year</th>\n",
       "      <th>url</th>\n",
       "      <th>cited_by</th>\n",
       "      <th>bib</th>\n",
       "    </tr>\n",
       "  </thead>\n",
       "  <tbody>\n",
       "    <tr>\n",
       "      <th>0</th>\n",
       "      <td>Dataset of spiking and LFP activity invasively...</td>\n",
       "      <td>[T Fedele, E Boran, V Chirkov, P Hilfiker, T G...</td>\n",
       "      <td>Scientific data</td>\n",
       "      <td>2021</td>\n",
       "      <td>https://www.nature.com/articles/s41597-020-007...</td>\n",
       "      <td>6</td>\n",
       "      <td>{'title': 'Dataset of spiking and LFP activity...</td>\n",
       "    </tr>\n",
       "    <tr>\n",
       "      <th>1</th>\n",
       "      <td>Open multimodal iEEG-fMRI dataset from natural...</td>\n",
       "      <td>[J Berezutskaya, MJ Vansteensel, EJ Aarnoutse]</td>\n",
       "      <td>Scientific Data</td>\n",
       "      <td>2022</td>\n",
       "      <td>https://www.nature.com/articles/s41597-022-011...</td>\n",
       "      <td>11</td>\n",
       "      <td>{'title': 'Open multimodal iEEG-fMRI dataset f...</td>\n",
       "    </tr>\n",
       "    <tr>\n",
       "      <th>2</th>\n",
       "      <td>Epileptic high-frequency oscillations in intra...</td>\n",
       "      <td>[E Boran, L Stieglitz, J Sarnthein]</td>\n",
       "      <td>Frontiers in Human Neuroscience</td>\n",
       "      <td>2021</td>\n",
       "      <td>https://www.frontiersin.org/articles/10.3389/f...</td>\n",
       "      <td>8</td>\n",
       "      <td>{'title': 'Epileptic high-frequency oscillatio...</td>\n",
       "    </tr>\n",
       "    <tr>\n",
       "      <th>3</th>\n",
       "      <td>Dataset of spiking and LFP activity invasively...</td>\n",
       "      <td>[L Stieglitz, H Jokeit, J Sarnthein]</td>\n",
       "      <td>NA</td>\n",
       "      <td>NA</td>\n",
       "      <td>n/a</td>\n",
       "      <td>0</td>\n",
       "      <td>{'title': 'Dataset of spiking and LFP activity...</td>\n",
       "    </tr>\n",
       "  </tbody>\n",
       "</table>\n",
       "</div>"
      ],
      "text/plain": [
       "                                               title  \\\n",
       "0  Dataset of spiking and LFP activity invasively...   \n",
       "1  Open multimodal iEEG-fMRI dataset from natural...   \n",
       "2  Epileptic high-frequency oscillations in intra...   \n",
       "3  Dataset of spiking and LFP activity invasively...   \n",
       "\n",
       "                                              author  \\\n",
       "0  [T Fedele, E Boran, V Chirkov, P Hilfiker, T G...   \n",
       "1     [J Berezutskaya, MJ Vansteensel, EJ Aarnoutse]   \n",
       "2                [E Boran, L Stieglitz, J Sarnthein]   \n",
       "3               [L Stieglitz, H Jokeit, J Sarnthein]   \n",
       "\n",
       "                             venue  year  \\\n",
       "0                  Scientific data  2021   \n",
       "1                  Scientific Data  2022   \n",
       "2  Frontiers in Human Neuroscience  2021   \n",
       "3                               NA    NA   \n",
       "\n",
       "                                                 url cited_by  \\\n",
       "0  https://www.nature.com/articles/s41597-020-007...        6   \n",
       "1  https://www.nature.com/articles/s41597-022-011...       11   \n",
       "2  https://www.frontiersin.org/articles/10.3389/f...        8   \n",
       "3                                                n/a        0   \n",
       "\n",
       "                                                 bib  \n",
       "0  {'title': 'Dataset of spiking and LFP activity...  \n",
       "1  {'title': 'Open multimodal iEEG-fMRI dataset f...  \n",
       "2  {'title': 'Epileptic high-frequency oscillatio...  \n",
       "3  {'title': 'Dataset of spiking and LFP activity...  "
      ]
     },
     "execution_count": 6,
     "metadata": {},
     "output_type": "execute_result"
    }
   ],
   "source": [
    "loaded_cites"
   ]
  },
  {
   "cell_type": "code",
   "execution_count": 8,
   "metadata": {},
   "outputs": [
    {
     "data": {
      "text/plain": [
       "'Dataset of spiking and LFP activity invasively recorded in the human amygdala during aversive dynamic stimuli'"
      ]
     },
     "execution_count": 8,
     "metadata": {},
     "output_type": "execute_result"
    }
   ],
   "source": [
    "loaded_cites['title'][0]"
   ]
  },
  {
   "cell_type": "code",
   "execution_count": null,
   "metadata": {},
   "outputs": [],
   "source": []
  }
 ],
 "metadata": {
  "kernelspec": {
   "display_name": "torch-sci",
   "language": "python",
   "name": "python3"
  },
  "language_info": {
   "codemirror_mode": {
    "name": "ipython",
    "version": 3
   },
   "file_extension": ".py",
   "mimetype": "text/x-python",
   "name": "python",
   "nbconvert_exporter": "python",
   "pygments_lexer": "ipython3",
   "version": "3.10.8"
  }
 },
 "nbformat": 4,
 "nbformat_minor": 2
}
