{
 "cells": [
  {
   "cell_type": "code",
   "execution_count": 1,
   "metadata": {},
   "outputs": [],
   "source": [
    "# check if the scholarly module is installed, if not install it from\n",
    "# pip3 install -U git+https://github.com/scholarly-python-package/scholarly.git\n",
    "\n",
    "import importlib\n",
    "schoarly_loader = importlib.util.find_spec('scholarly')\n",
    "found = schoarly_loader is not None\n",
    "if not found:\n",
    "    import pip\n",
    "    pip.main(['install', '-U', 'git+https://github.com/scholarly-python-package/scholarly.git'])\n",
    "\n",
    "from scholarly import scholarly\n",
    "import pandas as pd\n",
    "import numpy as np\n",
    "from matplotlib import pyplot as plt"
   ]
  },
  {
   "cell_type": "code",
   "execution_count": null,
   "metadata": {},
   "outputs": [],
   "source": [
    "# load the dataset names into a list\n",
    "dataset_names = pd.read_csv(\"directories_list.txt\", header=None)  # read the dataset names from the file\n",
    "dataset_names = dataset_names[0].tolist()  # convert the dataframe to a list"
   ]
  },
  {
   "cell_type": "code",
   "execution_count": null,
   "metadata": {},
   "outputs": [],
   "source": [
    "# Using Scholarly, get the number of citations that contain the dataset and save it to a Series\n",
    "citations = pd.Series()\n",
    "for dataset in dataset_names:\n",
    "    search_query = scholarly.search_pubs(dataset)\n",
    "    citations[dataset] = search_query.total_results\n",
    "    print(dataset, citations[dataset])"
   ]
  },
  {
   "cell_type": "code",
   "execution_count": null,
   "metadata": {},
   "outputs": [],
   "source": [
    "# In case the search fails continue again from the last dataset\n",
    "# Note: The query will fail every three minutes, need to change the IP address before continuing\n",
    "\n",
    "last_dataset = citations.index[-1]\n",
    "last_dataset_index = dataset_names.index(last_dataset)\n",
    "dataset_names = dataset_names[last_dataset_index + 1:]\n",
    "\n",
    "# Using Scholarly, get the number of citations that contain the dataset and save it to a Series\n",
    "for dataset in dataset_names:\n",
    "    search_query = scholarly.search_pubs(dataset)\n",
    "    citations[dataset] = search_query.total_results\n",
    "    print(dataset, citations[dataset])"
   ]
  },
  {
   "cell_type": "code",
   "execution_count": null,
   "metadata": {},
   "outputs": [],
   "source": [
    "# save the citations to a csv file\n",
    "citations.to_csv(\"citations.csv\",header=['number_of_citations '], index_label='dataset_id')"
   ]
  },
  {
   "cell_type": "code",
   "execution_count": 17,
   "metadata": {},
   "outputs": [],
   "source": [
    "from scholarly import ProxyGenerator\n",
    "pg = ProxyGenerator()\n",
    "success = pg.FreeProxies()\n",
    "scholarly.use_proxy(pg)"
   ]
  },
  {
   "cell_type": "code",
   "execution_count": 1,
   "metadata": {},
   "outputs": [],
   "source": [
    "import getCitations"
   ]
  },
  {
   "cell_type": "code",
   "execution_count": 4,
   "metadata": {},
   "outputs": [
    {
     "data": {
      "text/plain": [
       "<module 'getCitations' from '/Users/yahya/Documents/git/dataset_citations/getCitations.py'>"
      ]
     },
     "execution_count": 4,
     "metadata": {},
     "output_type": "execute_result"
    }
   ],
   "source": [
    "from importlib import reload\n",
    "reload(getCitations)"
   ]
  },
  {
   "cell_type": "code",
   "execution_count": 2,
   "metadata": {},
   "outputs": [
    {
     "data": {
      "text/plain": [
       "23"
      ]
     },
     "execution_count": 2,
     "metadata": {},
     "output_type": "execute_result"
    }
   ],
   "source": [
    "getCitations.get_citation_numbers(\"ds002778\")"
   ]
  },
  {
   "cell_type": "code",
   "execution_count": 2,
   "metadata": {},
   "outputs": [],
   "source": [
    "test = getCitations.get_citations(\"ds002778\", 23)"
   ]
  },
  {
   "cell_type": "code",
   "execution_count": 5,
   "metadata": {},
   "outputs": [],
   "source": [
    "from scholarly import scholarly"
   ]
  },
  {
   "cell_type": "code",
   "execution_count": 34,
   "metadata": {},
   "outputs": [
    {
     "data": {
      "text/plain": [
       "{'container_type': 'Publication',\n",
       " 'source': <PublicationSource.PUBLICATION_SEARCH_SNIPPET: 'PUBLICATION_SEARCH_SNIPPET'>,\n",
       " 'bib': {'title': \"Classifying Parkinson's Disease using Resting State Electroencephalogram Signals and UEN-PDNet\",\n",
       "  'author': ['SQA Rizvi', 'G Wang', 'A Khan', 'MK Hasan'],\n",
       "  'pub_year': '2023',\n",
       "  'venue': 'IEEE …',\n",
       "  'abstract': 'Parkinson’s Disease (PD) in the set of neuro-degenerative disorders stimulates due to the  loss of dopaminergic neurons from the substantia nigra. Electroencephalogram (EEG) signals'},\n",
       " 'filled': False,\n",
       " 'gsrank': 15,\n",
       " 'pub_url': 'https://ieeexplore.ieee.org/abstract/document/10262304/',\n",
       " 'author_id': ['', 'cfFEEDcAAAAJ', 'c57YAagAAAAJ', 'YoYaKagAAAAJ'],\n",
       " 'url_scholarbib': '/scholar?hl=en&q=info:A9t6mzL_CvgJ:scholar.google.com/&output=cite&scirp=14&hl=en',\n",
       " 'url_add_sclib': '/citations?hl=en&xsrf=&continue=/scholar%3Fq%3Dds002778%26hl%3Den%26start%3D22%26as_sdt%3D0,33&citilm=1&update_op=library_add&info=A9t6mzL_CvgJ&ei=R3mhZZH-Dem36rQPzuKSeA&json=',\n",
       " 'num_citations': 0,\n",
       " 'eprint_url': 'https://ieeexplore.ieee.org/iel7/6287639/10005208/10262304.pdf'}"
      ]
     },
     "execution_count": 34,
     "metadata": {},
     "output_type": "execute_result"
    }
   ],
   "source": [
    "next(test[9])"
   ]
  },
  {
   "cell_type": "code",
   "execution_count": null,
   "metadata": {},
   "outputs": [],
   "source": []
  }
 ],
 "metadata": {
  "kernelspec": {
   "display_name": "torch-sci",
   "language": "python",
   "name": "python3"
  },
  "language_info": {
   "codemirror_mode": {
    "name": "ipython",
    "version": 3
   },
   "file_extension": ".py",
   "mimetype": "text/x-python",
   "name": "python",
   "nbconvert_exporter": "python",
   "pygments_lexer": "ipython3",
   "version": "3.10.8"
  }
 },
 "nbformat": 4,
 "nbformat_minor": 2
}
